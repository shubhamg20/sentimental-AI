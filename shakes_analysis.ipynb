{
  "cells": [
    {
      "cell_type": "markdown",
      "metadata": {
        "id": "uKOZJpSejuwQ"
      },
      "source": [
        "# SENTIMENTAL AI\n",
        "# SnT Summer Project, BCS-IITK\n",
        "## Assignment-2\n",
        "\n",
        "Reference- https://github.com/07Agarg/Natural-Language-Processing-In-Tensorflow-Course/blob/master/Week%204/NLP_Week4_Exercise_Shakespeare_Question.ipynb "
      ]
    },
    {
      "cell_type": "code",
      "execution_count": 1,
      "metadata": {
        "id": "UbboSp2kgxU2"
      },
      "outputs": [],
      "source": [
        "from tensorflow.keras.preprocessing.sequence import pad_sequences\n",
        "from tensorflow.keras.layers import Embedding, LSTM, Dense, Dropout, Bidirectional\n",
        "from tensorflow.keras.preprocessing.text import Tokenizer\n",
        "from tensorflow.keras.models import Sequential\n",
        "from tensorflow.keras.optimizers import Adam\n",
        "from tensorflow.keras.regularizers import Regularizer\n",
        "import tensorflow.keras.utils as ku \n",
        "import numpy as np "
      ]
    },
    {
      "cell_type": "code",
      "execution_count": 2,
      "metadata": {
        "id": "bjKVL_nyg6EX",
        "colab": {
          "base_uri": "https://localhost:8080/"
        },
        "outputId": "f35bd4f4-80f0-42ad-9932-29e4f3627ab5"
      },
      "outputs": [
        {
          "output_type": "stream",
          "name": "stdout",
          "text": [
            "--2022-07-17 11:11:32--  https://storage.googleapis.com/laurencemoroney-blog.appspot.com/sonnets.txt\n",
            "Resolving storage.googleapis.com (storage.googleapis.com)... 74.125.142.128, 74.125.195.128, 172.253.117.128, ...\n",
            "Connecting to storage.googleapis.com (storage.googleapis.com)|74.125.142.128|:443... connected.\n",
            "HTTP request sent, awaiting response... 200 OK\n",
            "Length: 93578 (91K) [text/plain]\n",
            "Saving to: ‘/tmp/sonnets.txt’\n",
            "\n",
            "\r/tmp/sonnets.txt      0%[                    ]       0  --.-KB/s               \r/tmp/sonnets.txt    100%[===================>]  91.38K  --.-KB/s    in 0.001s  \n",
            "\n",
            "2022-07-17 11:11:32 (98.4 MB/s) - ‘/tmp/sonnets.txt’ saved [93578/93578]\n",
            "\n",
            "3211\n"
          ]
        }
      ],
      "source": [
        "tokenizer = Tokenizer()\n",
        "!wget --no-check-certificate \\\n",
        "    https://storage.googleapis.com/laurencemoroney-blog.appspot.com/sonnets.txt \\\n",
        "    -O /tmp/sonnets.txt\n",
        "data = open('/tmp/sonnets.txt').read()\n",
        "\n",
        "\n",
        "corpus = data.lower().split(\"\\n\")  #conversion to lower case and splitting the data on '\\n' to create a corpus of lines\n",
        "tokenizer.fit_on_texts(corpus) #fit the tokenizer on the corpus\n",
        "total_words = len(tokenizer.word_index) + 1\n",
        "print(total_words)"
      ]
    },
    {
      "cell_type": "code",
      "source": [
        "# input sequences using list of tokens\n",
        "input_sequences = []\n",
        "for line in corpus:\n",
        "\ttoken_list = tokenizer.texts_to_sequences([line])[0]\n",
        "\tfor i in range(1, len(token_list)):\n",
        "\t\tn_gram_sequence = token_list[:i+1]\n",
        "\t\tinput_sequences.append(n_gram_sequence)\n",
        "\n",
        "# sequence padding \n",
        "max_sequence_len = max([len(x) for x in input_sequences])\n",
        "input_sequences = np.array(pad_sequences(input_sequences, maxlen=max_sequence_len, padding='pre'))\n",
        "\n",
        "# predictors and label\n",
        "predictors, label = input_sequences[:,:-1],input_sequences[:,-1]\n",
        "\n",
        "label = ku.to_categorical(label, num_classes=total_words)"
      ],
      "metadata": {
        "id": "_youb-6smRAm"
      },
      "execution_count": 3,
      "outputs": []
    },
    {
      "cell_type": "code",
      "execution_count": 4,
      "metadata": {
        "id": "6GnoE7fchEp6",
        "colab": {
          "base_uri": "https://localhost:8080/"
        },
        "outputId": "a0baa3f2-1aa9-4dcf-d3c2-f23be035602b"
      },
      "outputs": [
        {
          "output_type": "stream",
          "name": "stdout",
          "text": [
            "Model: \"sequential\"\n",
            "_________________________________________________________________\n",
            " Layer (type)                Output Shape              Param #   \n",
            "=================================================================\n",
            " embedding (Embedding)       (None, 10, 100)           321100    \n",
            "                                                                 \n",
            " bidirectional (Bidirectiona  (None, 10, 300)          301200    \n",
            " l)                                                              \n",
            "                                                                 \n",
            " dropout (Dropout)           (None, 10, 300)           0         \n",
            "                                                                 \n",
            " lstm_1 (LSTM)               (None, 100)               160400    \n",
            "                                                                 \n",
            " dense (Dense)               (None, 1605)              162105    \n",
            "                                                                 \n",
            " dense_1 (Dense)             (None, 3211)              5156866   \n",
            "                                                                 \n",
            "=================================================================\n",
            "Total params: 6,101,671\n",
            "Trainable params: 6,101,671\n",
            "Non-trainable params: 0\n",
            "_________________________________________________________________\n",
            "None\n"
          ]
        }
      ],
      "source": [
        "model = Sequential()\n",
        "model.add(Embedding(total_words, 100, input_length=max_sequence_len-1))  #embedding layer\n",
        "model.add(Bidirectional(LSTM(150, return_sequences=True)))  #bidirectional LSTM layer\n",
        "model.add(Dropout(0.2))  #dropout layer\n",
        "model.add(LSTM(100))  #second LSTM layer\n",
        "model.add(Dense(total_words/2, activation='relu'))  #dense layer including regularizers\n",
        "model.add(Dense(total_words, activation='softmax'))  #dense layer\n",
        "\n",
        "model.compile(loss='categorical_crossentropy', optimizer='adam', metrics='accuracy')\n",
        "print(model.summary()) #model summary"
      ]
    },
    {
      "cell_type": "code",
      "execution_count": 5,
      "metadata": {
        "colab": {
          "base_uri": "https://localhost:8080/"
        },
        "id": "Se-rEkushRht",
        "outputId": "a84ff92d-61bb-4b53-c3f7-938df109a609"
      },
      "outputs": [
        {
          "output_type": "stream",
          "name": "stdout",
          "text": [
            "Epoch 1/60\n",
            "484/484 [==============================] - 14s 10ms/step - loss: 6.8128 - accuracy: 0.0225\n",
            "Epoch 2/60\n",
            "484/484 [==============================] - 5s 9ms/step - loss: 6.4391 - accuracy: 0.0309\n",
            "Epoch 3/60\n",
            "484/484 [==============================] - 5s 9ms/step - loss: 6.2375 - accuracy: 0.0350\n",
            "Epoch 4/60\n",
            "484/484 [==============================] - 5s 10ms/step - loss: 6.0425 - accuracy: 0.0435\n",
            "Epoch 5/60\n",
            "484/484 [==============================] - 5s 10ms/step - loss: 5.7877 - accuracy: 0.0482\n",
            "Epoch 6/60\n",
            "484/484 [==============================] - 6s 12ms/step - loss: 5.5375 - accuracy: 0.0578\n",
            "Epoch 7/60\n",
            "484/484 [==============================] - 8s 16ms/step - loss: 5.2874 - accuracy: 0.0701\n",
            "Epoch 8/60\n",
            "484/484 [==============================] - 5s 10ms/step - loss: 5.0446 - accuracy: 0.0846\n",
            "Epoch 9/60\n",
            "484/484 [==============================] - 5s 9ms/step - loss: 4.7799 - accuracy: 0.0982\n",
            "Epoch 10/60\n",
            "484/484 [==============================] - 5s 10ms/step - loss: 4.4993 - accuracy: 0.1239\n",
            "Epoch 11/60\n",
            "484/484 [==============================] - 5s 10ms/step - loss: 4.2160 - accuracy: 0.1453\n",
            "Epoch 12/60\n",
            "484/484 [==============================] - 5s 10ms/step - loss: 3.9064 - accuracy: 0.1749\n",
            "Epoch 13/60\n",
            "484/484 [==============================] - 5s 10ms/step - loss: 3.5970 - accuracy: 0.2237\n",
            "Epoch 14/60\n",
            "484/484 [==============================] - 5s 9ms/step - loss: 3.2888 - accuracy: 0.2701\n",
            "Epoch 15/60\n",
            "484/484 [==============================] - 5s 10ms/step - loss: 2.9791 - accuracy: 0.3216\n",
            "Epoch 16/60\n",
            "484/484 [==============================] - 5s 10ms/step - loss: 2.7063 - accuracy: 0.3719\n",
            "Epoch 17/60\n",
            "484/484 [==============================] - 5s 10ms/step - loss: 2.4407 - accuracy: 0.4302\n",
            "Epoch 18/60\n",
            "484/484 [==============================] - 5s 9ms/step - loss: 2.2177 - accuracy: 0.4728\n",
            "Epoch 19/60\n",
            "484/484 [==============================] - 5s 10ms/step - loss: 2.0214 - accuracy: 0.5146\n",
            "Epoch 20/60\n",
            "484/484 [==============================] - 5s 10ms/step - loss: 1.8375 - accuracy: 0.5595\n",
            "Epoch 21/60\n",
            "484/484 [==============================] - 5s 10ms/step - loss: 1.6807 - accuracy: 0.5913\n",
            "Epoch 22/60\n",
            "484/484 [==============================] - 5s 9ms/step - loss: 1.5572 - accuracy: 0.6179\n",
            "Epoch 23/60\n",
            "484/484 [==============================] - 5s 9ms/step - loss: 1.4395 - accuracy: 0.6438\n",
            "Epoch 24/60\n",
            "484/484 [==============================] - 5s 10ms/step - loss: 1.3224 - accuracy: 0.6722\n",
            "Epoch 25/60\n",
            "484/484 [==============================] - 5s 11ms/step - loss: 1.2339 - accuracy: 0.6916\n",
            "Epoch 26/60\n",
            "484/484 [==============================] - 5s 10ms/step - loss: 1.1396 - accuracy: 0.7159\n",
            "Epoch 27/60\n",
            "484/484 [==============================] - 5s 10ms/step - loss: 1.0652 - accuracy: 0.7352\n",
            "Epoch 28/60\n",
            "484/484 [==============================] - 5s 10ms/step - loss: 1.0163 - accuracy: 0.7406\n",
            "Epoch 29/60\n",
            "484/484 [==============================] - 5s 10ms/step - loss: 0.9735 - accuracy: 0.7519\n",
            "Epoch 30/60\n",
            "484/484 [==============================] - 5s 10ms/step - loss: 0.9378 - accuracy: 0.7622\n",
            "Epoch 31/60\n",
            "484/484 [==============================] - 5s 9ms/step - loss: 0.8892 - accuracy: 0.7727\n",
            "Epoch 32/60\n",
            "484/484 [==============================] - 5s 10ms/step - loss: 0.8450 - accuracy: 0.7833\n",
            "Epoch 33/60\n",
            "484/484 [==============================] - 5s 11ms/step - loss: 0.8099 - accuracy: 0.7918\n",
            "Epoch 34/60\n",
            "484/484 [==============================] - 5s 10ms/step - loss: 0.7762 - accuracy: 0.8017\n",
            "Epoch 35/60\n",
            "484/484 [==============================] - 5s 10ms/step - loss: 0.7606 - accuracy: 0.8020\n",
            "Epoch 36/60\n",
            "484/484 [==============================] - 5s 10ms/step - loss: 0.7495 - accuracy: 0.8067\n",
            "Epoch 37/60\n",
            "484/484 [==============================] - 5s 10ms/step - loss: 0.7325 - accuracy: 0.8108\n",
            "Epoch 38/60\n",
            "484/484 [==============================] - 5s 10ms/step - loss: 0.7362 - accuracy: 0.8057\n",
            "Epoch 39/60\n",
            "484/484 [==============================] - 5s 9ms/step - loss: 0.7113 - accuracy: 0.8128\n",
            "Epoch 40/60\n",
            "484/484 [==============================] - 5s 10ms/step - loss: 0.6738 - accuracy: 0.8180\n",
            "Epoch 41/60\n",
            "484/484 [==============================] - 5s 9ms/step - loss: 0.6728 - accuracy: 0.8199\n",
            "Epoch 42/60\n",
            "484/484 [==============================] - 5s 10ms/step - loss: 0.6771 - accuracy: 0.8187\n",
            "Epoch 43/60\n",
            "484/484 [==============================] - 5s 10ms/step - loss: 0.6672 - accuracy: 0.8185\n",
            "Epoch 44/60\n",
            "484/484 [==============================] - 5s 10ms/step - loss: 0.6467 - accuracy: 0.8258\n",
            "Epoch 45/60\n",
            "484/484 [==============================] - 5s 10ms/step - loss: 0.6278 - accuracy: 0.8329\n",
            "Epoch 46/60\n",
            "484/484 [==============================] - 5s 10ms/step - loss: 0.6274 - accuracy: 0.8295\n",
            "Epoch 47/60\n",
            "484/484 [==============================] - 5s 10ms/step - loss: 0.6227 - accuracy: 0.8302\n",
            "Epoch 48/60\n",
            "484/484 [==============================] - 5s 9ms/step - loss: 0.6506 - accuracy: 0.8210\n",
            "Epoch 49/60\n",
            "484/484 [==============================] - 5s 10ms/step - loss: 0.6278 - accuracy: 0.8261\n",
            "Epoch 50/60\n",
            "484/484 [==============================] - 5s 10ms/step - loss: 0.6037 - accuracy: 0.8340\n",
            "Epoch 51/60\n",
            "484/484 [==============================] - 5s 10ms/step - loss: 0.6026 - accuracy: 0.8327\n",
            "Epoch 52/60\n",
            "484/484 [==============================] - 5s 10ms/step - loss: 0.5942 - accuracy: 0.8337\n",
            "Epoch 53/60\n",
            "484/484 [==============================] - 5s 10ms/step - loss: 0.5984 - accuracy: 0.8357\n",
            "Epoch 54/60\n",
            "484/484 [==============================] - 5s 10ms/step - loss: 0.5939 - accuracy: 0.8332\n",
            "Epoch 55/60\n",
            "484/484 [==============================] - 5s 10ms/step - loss: 0.5855 - accuracy: 0.8360\n",
            "Epoch 56/60\n",
            "484/484 [==============================] - 5s 10ms/step - loss: 0.5935 - accuracy: 0.8337\n",
            "Epoch 57/60\n",
            "484/484 [==============================] - 5s 10ms/step - loss: 0.5841 - accuracy: 0.8358\n",
            "Epoch 58/60\n",
            "484/484 [==============================] - 5s 10ms/step - loss: 0.5774 - accuracy: 0.8342\n",
            "Epoch 59/60\n",
            "484/484 [==============================] - 5s 10ms/step - loss: 0.5740 - accuracy: 0.8371\n",
            "Epoch 60/60\n",
            "484/484 [==============================] - 5s 10ms/step - loss: 0.5662 - accuracy: 0.8390\n"
          ]
        }
      ],
      "source": [
        " history = model.fit(predictors, label, epochs=60, verbose=1)"
      ]
    },
    {
      "cell_type": "code",
      "execution_count": 6,
      "metadata": {
        "id": "HMq2MUuohVAw",
        "colab": {
          "base_uri": "https://localhost:8080/",
          "height": 545
        },
        "outputId": "69295868-2753-4d28-d476-355e17163b37"
      },
      "outputs": [
        {
          "output_type": "display_data",
          "data": {
            "text/plain": [
              "<Figure size 432x288 with 1 Axes>"
            ],
            "image/png": "[encoded data removed]"
          },
          "metadata": {
            "needs_background": "light"
          }
        },
        {
          "output_type": "display_data",
          "data": {
            "text/plain": [
              "<Figure size 432x288 with 1 Axes>"
            ],
            "image/png": "[encoded data removed]"
          },
          "metadata": {
            "needs_background": "light"
          }
        }
      ],
      "source": [
        "import matplotlib.pyplot as plt\n",
        "acc = history.history['accuracy']\n",
        "loss = history.history['loss']\n",
        "\n",
        "epochs = range(len(acc))\n",
        "\n",
        "plt.plot(epochs, acc, 'b', label='Training accuracy')\n",
        "plt.title('Training accuracy')\n",
        "\n",
        "plt.figure()\n",
        "\n",
        "plt.plot(epochs, loss, 'b', label='Training Loss')\n",
        "plt.title('Training loss')\n",
        "plt.legend()\n",
        "\n",
        "plt.show()"
      ]
    },
    {
      "cell_type": "code",
      "execution_count": null,
      "metadata": {
        "id": "j5Q2VQek4ebV"
      },
      "outputs": [],
      "source": [
        "seed_text = \"Help me Obi Wan Kenobi, you're my only hope\"\n",
        "next_words = 15 #number of words to be predicted\n",
        "\n",
        "for _ in range(next_words):\n",
        "  token_list = tokenizer.texts_to_sequences([seed_text])[0]\n",
        "  token_list = pad_sequences([token_list], maxlen=max_sequence_len-1, padding='pre')\n",
        "  predict_x = model.predict(token_list)\n",
        "  classes_x = np.argmax(predict_x, axis=1)\n",
        "  output_word = \"\"\n",
        "  for word, index in tokenizer.word_index.items():\n",
        "    if index == classes_x:\n",
        "      output_word = word\n",
        "      break\n",
        "  seed_text += \" \" + output_word\n",
        "print(seed_text)"
      ]
    }
  ],
  "metadata": {
    "colab": {
      "collapsed_sections": [],
      "name": "Copy of Copy of Sentimental_AI_A2.ipynb",
      "provenance": []
    },
    "gpuClass": "standard",
    "kernelspec": {
      "display_name": "Python 3",
      "name": "python3"
    },
    "language_info": {
      "name": "python"
    },
    "accelerator": "GPU"
  },
  "nbformat": 4,
  "nbformat_minor": 0
}